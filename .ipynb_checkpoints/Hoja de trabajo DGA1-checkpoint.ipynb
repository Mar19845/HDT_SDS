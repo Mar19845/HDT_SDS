{
 "cells": [
  {
   "cell_type": "markdown",
   "id": "5a75807c",
   "metadata": {},
   "source": [
    "# Hoja de trabajo: Detección de DGA"
   ]
  },
  {
   "cell_type": "markdown",
   "id": "2631d99c",
   "metadata": {},
   "source": [
    "Para este ejercicio usaremos las siguientes librerías:\n",
    "* Pandas (http://pandas.pydata.org/pandas-docs/stable/)\n",
    "* Numpy (https://docs.scipy.org/doc/numpy/reference/)\n",
    "* Matplotlib (http://matplotlib.org/api/pyplot_api.html)\n",
    "* Scikit-learn (http://scikit-learn.org/stable/documentation.html)\n",
    "* YellowBrick (http://www.scikit-yb.org/en/latest/)\n",
    "* Seaborn (https://seaborn.pydata.org)"
   ]
  },
  {
   "cell_type": "code",
   "execution_count": null,
   "id": "78b88ac4",
   "metadata": {},
   "outputs": [],
   "source": [
    "#Importar las librerías\n",
    "\n",
    "import pandas as pd\n",
    "import numpy as np\n",
    "import re\n",
    "from collections import Counter\n",
    "from sklearn import feature_extraction, tree, model_selection, metrics\n",
    "import matplotlib.pyplot as plt\n",
    "import matplotlib\n",
    "import seaborn as sns\n",
    "%matplotlib inline\n",
    "from yellowbrick.features import Rank2D\n",
    "from yellowbrick.features import RadViz"
   ]
  },
  {
   "cell_type": "markdown",
   "id": "46cae262",
   "metadata": {},
   "source": [
    "## Parte 1: Ingeniería de características"
   ]
  },
  {
   "cell_type": "code",
   "execution_count": null,
   "id": "65d662f2",
   "metadata": {},
   "outputs": [],
   "source": [
    "## Cargar el dataset proporcionado\n",
    "df = pd.read_csv('dga_data_small.csv')\n",
    "df.drop(['host', 'subclass'], axis=1, inplace=True)\n",
    "print(df.shape)\n",
    "df.sample(n=5).head() # print a random sample of the DataFrame"
   ]
  },
  {
   "cell_type": "code",
   "execution_count": null,
   "id": "56571a89",
   "metadata": {},
   "outputs": [],
   "source": [
    "df[df.isDGA == 'legit'].sample(5)"
   ]
  },
  {
   "cell_type": "code",
   "execution_count": null,
   "id": "6c5c0383",
   "metadata": {},
   "outputs": [],
   "source": [
    "df[df.isDGA == 'dga'].sample(5)"
   ]
  },
  {
   "cell_type": "markdown",
   "id": "be207412",
   "metadata": {},
   "source": [
    "**Lista de características a derivar (basado en artículos académicos)**:\n",
    "\n",
    "1. Length [\"length\"]\n",
    "2. Number of digits [\"digits\"]\n",
    "3. Entropy [\"entropy\"] - use ```H_entropy```\n",
    "4. Vowel to consonant ratio [\"vowel-cons\"] - use ```vowel_consonant_ratio```\n",
    "5. The index of the first digit - use the ``firstDigitIndex`` \n",
    "6. n-grams"
   ]
  },
  {
   "cell_type": "code",
   "execution_count": null,
   "id": "3ac4eaac",
   "metadata": {},
   "outputs": [],
   "source": [
    "from six.moves import cPickle as pickle\n",
    "with open('d_common_en_words' + '.pickle', 'rb') as f:\n",
    "        d = pickle.load(f)\n",
    "\n",
    "def H_entropy (x):\n",
    "    # Calculate Shannon Entropy\n",
    "    prob = [ float(x.count(c)) / len(x) for c in dict.fromkeys(list(x)) ] \n",
    "    H = - sum([ p * np.log2(p) for p in prob ]) \n",
    "    return H\n",
    "\n",
    "def firstDigitIndex( s ):\n",
    "    for i, c in enumerate(s):\n",
    "        if c.isdigit():\n",
    "            return i + 1\n",
    "    return 0\n",
    "\n",
    "def vowel_consonant_ratio (x):\n",
    "    # Calculate vowel to consonant ratio\n",
    "    x = x.lower()\n",
    "    vowels_pattern = re.compile('([aeiou])')\n",
    "    consonants_pattern = re.compile('([b-df-hj-np-tv-z])')\n",
    "    vowels = re.findall(vowels_pattern, x)\n",
    "    consonants = re.findall(consonants_pattern, x)\n",
    "    try:\n",
    "        ratio = len(vowels) / len(consonants)\n",
    "    except: # catch zero devision exception \n",
    "        ratio = 0  \n",
    "    return ratio\n",
    "\n",
    "# ngrams: Implementation according to Schiavoni 2014: \"Phoenix: DGA-based Botnet Tracking and Intelligence\"\n",
    "# http://s2lab.isg.rhul.ac.uk/papers/files/dimva2014.pdf\n",
    "\n",
    "def ngrams(word, n):\n",
    "    # Extract all ngrams and return a regular Python list\n",
    "    # Input word: can be a simple string or a list of strings\n",
    "    # Input n: Can be one integer or a list of integers \n",
    "    # if you want to extract multipe ngrams and have them all in one list\n",
    "    \n",
    "    l_ngrams = []\n",
    "    if isinstance(word, list):\n",
    "        for w in word:\n",
    "            if isinstance(n, list):\n",
    "                for curr_n in n:\n",
    "                    ngrams = [w[i:i+curr_n] for i in range(0,len(w)-curr_n+1)]\n",
    "                    l_ngrams.extend(ngrams)\n",
    "            else:\n",
    "                ngrams = [w[i:i+n] for i in range(0,len(w)-n+1)]\n",
    "                l_ngrams.extend(ngrams)\n",
    "    else:\n",
    "        if isinstance(n, list):\n",
    "            for curr_n in n:\n",
    "                ngrams = [word[i:i+curr_n] for i in range(0,len(word)-curr_n+1)]\n",
    "                l_ngrams.extend(ngrams)\n",
    "        else:\n",
    "            ngrams = [word[i:i+n] for i in range(0,len(word)-n+1)]\n",
    "            l_ngrams.extend(ngrams)\n",
    "#     print(l_ngrams)\n",
    "    return l_ngrams\n",
    "\n",
    "def ngram_feature(domain, d, n):\n",
    "    # Input is your domain string or list of domain strings\n",
    "    # a dictionary object d that contains the count for most common english words\n",
    "    # finally you n either as int list or simple int defining the ngram length\n",
    "    \n",
    "    # Core magic: Looks up domain ngrams in english dictionary ngrams and sums up the \n",
    "    # respective english dictionary counts for the respective domain ngram\n",
    "    # sum is normalized\n",
    "    \n",
    "    l_ngrams = ngrams(domain, n)\n",
    "#     print(l_ngrams)\n",
    "    count_sum=0\n",
    "    for ngram in l_ngrams:\n",
    "        if d[ngram]:\n",
    "            count_sum+=d[ngram]\n",
    "    try:\n",
    "        feature = count_sum/(len(domain)-n+1)\n",
    "    except:\n",
    "        feature = 0\n",
    "    return feature\n",
    "    \n",
    "def average_ngram_feature(l_ngram_feature):\n",
    "    # input is a list of calls to ngram_feature(domain, d, n)\n",
    "    # usually you would use various n values, like 1,2,3...\n",
    "    return sum(l_ngram_feature)/len(l_ngram_feature)"
   ]
  },
  {
   "cell_type": "code",
   "execution_count": null,
   "id": "6c31f432",
   "metadata": {},
   "outputs": [],
   "source": [
    "df['ngrams'] = df['domain'].apply(lambda x: average_ngram_feature([ngram_feature(x, d, 1), \n",
    "                                                                ngram_feature(x, d, 2), \n",
    "                                                                ngram_feature(x, d, 3)]))\n",
    "\n",
    "# check final 2D pandas DataFrame containing all final features and the target vector isDGA\n",
    "df.sample(10)\n",
    "df['entropy'] = df['domain'].apply(H_entropy)\n",
    "df['vowel-cons'] = df['domain'].apply(vowel_consonant_ratio)\n",
    "df['firstDigitIndex'] = df['domain'].apply(firstDigitIndex)\n",
    "# Calcular las características faltantes length y digits\n",
    "# Su código:\n",
    "\n",
    "\n",
    "\n",
    "\n",
    "# Codifique para la columna isDGA: dga con el valor 1, y legit con el valor 0\n",
    "# Su código\n",
    "\n",
    "\n",
    "\n",
    "print(df['isDGA'].value_counts())\n",
    "df.sample(n=5).head()\n"
   ]
  },
  {
   "cell_type": "code",
   "execution_count": null,
   "id": "5b30edda",
   "metadata": {},
   "outputs": [],
   "source": [
    "df_final = df\n",
    "df_final = df_final.drop(['domain'], axis=1)\n",
    "df_final.to_csv('dga_features_final_df.csv', index=False)\n",
    "df_final.head()"
   ]
  },
  {
   "cell_type": "markdown",
   "id": "2c92e349",
   "metadata": {},
   "source": [
    "## Visualización de la data"
   ]
  },
  {
   "cell_type": "code",
   "execution_count": null,
   "id": "75d31525",
   "metadata": {},
   "outputs": [],
   "source": [
    "feature_names = ['length','digits','entropy','vowel-cons','firstDigitIndex', 'ngrams']\n",
    "features = df_final[feature_names]\n",
    "target = df_final['isDGA']"
   ]
  },
  {
   "cell_type": "code",
   "execution_count": null,
   "id": "ec2358dd",
   "metadata": {},
   "outputs": [],
   "source": [
    "sns.pairplot(df_final, hue='isDGA', vars=feature_names)"
   ]
  },
  {
   "cell_type": "markdown",
   "id": "eae14f60",
   "metadata": {},
   "source": [
    "Explique cómo se interpreta la característica entropy contra cualquiera de las demas características\n",
    "\n",
    "Gráfica elegida e interpretación:"
   ]
  },
  {
   "cell_type": "code",
   "execution_count": null,
   "id": "50f35bfa",
   "metadata": {},
   "outputs": [],
   "source": [
    "visualizer = Rank2D(algorithm='pearson',features=feature_names)\n",
    "visualizer.fit_transform( features )\n",
    "visualizer.poof()"
   ]
  },
  {
   "cell_type": "markdown",
   "id": "1c0a48ca",
   "metadata": {},
   "source": [
    "Explique cómo se interpreta la correlación entre las características entropy y length\n",
    "\n",
    "Respuesta:\n"
   ]
  },
  {
   "cell_type": "code",
   "execution_count": null,
   "id": "b79fd905",
   "metadata": {},
   "outputs": [],
   "source": [
    "features = df_final[feature_names].values\n",
    "target = df_final['isDGA'].values\n",
    "\n",
    "radvizualizer = RadViz(classes=['Benign','isDga'], features=feature_names)\n",
    "radvizualizer.fit_transform( features, target)\n",
    "radvizualizer.poof()"
   ]
  },
  {
   "cell_type": "markdown",
   "id": "26b96fa3",
   "metadata": {},
   "source": [
    "Interprete el gráfico generado por el algoritmo Radviz\n",
    "\n",
    "Respuesta: "
   ]
  },
  {
   "cell_type": "markdown",
   "id": "53ed0ca5",
   "metadata": {},
   "source": [
    "## Parte 2: Implementación del modelo"
   ]
  },
  {
   "cell_type": "markdown",
   "id": "0181b7d1",
   "metadata": {},
   "source": [
    "### Paso 1: Prepare la matriz de características y el vector Target\n",
    "\n",
    "- En estadistica, la matriz de características es normalmente conocida como ```X```\n",
    "- Target es un vector que contiene las etiquetas para cada URL (también conocido como  *y* en estadistica)\n",
    "- En sklearnel X y el Objetivo pueden ser ambos pandas DataFrame/Series o numpy array/vector (no pueden ser listas!)\n",
    "\n",
    "Tarea:\n",
    "- asigne la columna 'isDGA' a una serie de pandas y nombrela 'target'\n",
    "- Elimine la columna 'isDGA' del dataFrame ```dga``` y nombre el DataFrame resultante como 'feature_matrix'"
   ]
  },
  {
   "cell_type": "code",
   "execution_count": null,
   "id": "538ad0ce",
   "metadata": {},
   "outputs": [],
   "source": [
    "target = df_final['isDGA']\n",
    "feature_matrix = df_final.drop(['isDGA'], axis=1)\n",
    "print('Final features', feature_matrix.columns)\n",
    "\n",
    "feature_matrix.head()"
   ]
  },
  {
   "cell_type": "markdown",
   "id": "30dcec82",
   "metadata": {},
   "source": [
    "### Paso 2: Separación de datos\n",
    "\n",
    "- Divida el dataset en datos de entrenamiento (75%) y prueba (25%), en las variables feature_matrix_train, feature_matrix_test, target_train, target_test"
   ]
  },
  {
   "cell_type": "code",
   "execution_count": null,
   "id": "b85a7f3d",
   "metadata": {},
   "outputs": [],
   "source": [
    "#Su código"
   ]
  },
  {
   "cell_type": "code",
   "execution_count": null,
   "id": "a8f00efd",
   "metadata": {},
   "outputs": [],
   "source": [
    "feature_matrix_train.count()"
   ]
  },
  {
   "cell_type": "code",
   "execution_count": null,
   "id": "568eff71",
   "metadata": {},
   "outputs": [],
   "source": [
    "feature_matrix_test.count()"
   ]
  },
  {
   "cell_type": "code",
   "execution_count": null,
   "id": "a95b48e2",
   "metadata": {},
   "outputs": [],
   "source": [
    "target_train.head()"
   ]
  },
  {
   "cell_type": "code",
   "execution_count": null,
   "id": "6d035251",
   "metadata": {},
   "outputs": [],
   "source": [
    "target_train.value_counts()"
   ]
  },
  {
   "cell_type": "markdown",
   "id": "d5274079",
   "metadata": {},
   "source": [
    "### Paso 3: Entrenamiento del modelo\n",
    "\n",
    "- Use el modelo de árbol de decisión de sklearn [tree.DecisionTreeClassfier()](http://scikit-learn.org/stable/modules/generated/sklearn.tree.DecisionTreeClassifier.html), y cree un modelo con los parámetros estandar , luego entrenelo usando la función ```.fit()``` con la data ```X_train``` y ```target_train```."
   ]
  },
  {
   "cell_type": "code",
   "execution_count": null,
   "id": "9388b5bb",
   "metadata": {},
   "outputs": [],
   "source": [
    "clf = tree.DecisionTreeClassifier()  # clf means classifier\n",
    "clf = clf.fit(feature_matrix_train, target_train)\n",
    "\n",
    "# Extract a row from the test data\n",
    "test_feature = feature_matrix_test[192:193]\n",
    "test_target = target_test[192:193]\n",
    "\n",
    "# Make the prediction\n",
    "pred = clf.predict(test_feature)\n",
    "print('Predicted class:', pred)\n",
    "print('Accurate prediction?', pred[0] == test_target)"
   ]
  },
  {
   "cell_type": "code",
   "execution_count": null,
   "id": "39bd4115",
   "metadata": {},
   "outputs": [],
   "source": [
    "pred[0] == test_target"
   ]
  },
  {
   "cell_type": "markdown",
   "id": "667c5afb",
   "metadata": {},
   "source": [
    "### Paso 4: Predicciones\n",
    "\n",
    "- Para poder hacer predicciones con el modelo, se deben derivar las características de las URLs de prueba"
   ]
  },
  {
   "cell_type": "code",
   "execution_count": null,
   "id": "653260c7",
   "metadata": {},
   "outputs": [],
   "source": [
    "def is_dga(domain, clf, d):\n",
    "    # Parámetros: dominio y el modelo entrenado clf\n",
    "    # Retorna una predicción \n",
    "    \n",
    "    domain_features = np.empty([1,6])\n",
    "    # orden de las características ['length', 'digits', 'entropy', 'vowel-cons', firstDigitIndex]\n",
    "    domain_features[0,0] = len(domain)\n",
    "    pattern = re.compile('([0-9])')\n",
    "    domain_features[0,1] = len(re.findall(pattern, domain))\n",
    "    domain_features[0,2] = H_entropy(domain)\n",
    "    domain_features[0,3] = vowel_consonant_ratio(domain)\n",
    "    domain_features[0,4] = firstDigitIndex(domain)\n",
    "    domain_features[0,5] = average_ngram_feature([ngram_feature(domain, d, 1), \n",
    "                                                  ngram_feature(domain, d, 2), \n",
    "                                                  ngram_feature(domain, d, 3)])\n",
    "    pred = clf.predict(domain_features)\n",
    "    return pred[0]"
   ]
  },
  {
   "cell_type": "markdown",
   "id": "219bfab6",
   "metadata": {},
   "source": [
    "Utilice la función is_dga para realizar predicciones sobre los siguientes dominios de prueba:\n",
    "\n",
    "- microsoft\n",
    "- google\n",
    "- 1vxznov16031kjxneqjk1rtofi6"
   ]
  },
  {
   "cell_type": "code",
   "execution_count": null,
   "id": "6a2be48d",
   "metadata": {},
   "outputs": [],
   "source": [
    "#Su código"
   ]
  },
  {
   "cell_type": "markdown",
   "id": "d6ab2728",
   "metadata": {},
   "source": [
    "### Paso 5: Validación\n",
    "\n",
    "- Cálculo de la matriz de validación"
   ]
  },
  {
   "cell_type": "code",
   "execution_count": null,
   "id": "9f4079a7",
   "metadata": {},
   "outputs": [],
   "source": [
    "target_pred = clf.predict(feature_matrix_test)\n",
    "print(metrics.accuracy_score(target_test, target_pred))\n",
    "print('Confusion Matrix\\n', metrics.confusion_matrix(target_test, target_pred))"
   ]
  },
  {
   "cell_type": "markdown",
   "id": "5ff05e0b",
   "metadata": {},
   "source": [
    "Etiquete de forma apropiada la matriz, y explique el valor de:\n",
    "\n",
    "- Verdaderos positivos\n",
    "- Verdaderos negativos\n",
    "- Falsos positivos\n",
    "- Falsos negativos"
   ]
  },
  {
   "cell_type": "code",
   "execution_count": null,
   "id": "5feddaa3",
   "metadata": {},
   "outputs": [],
   "source": [
    "print(metrics.classification_report(target_test, target_pred, target_names=['legit', 'dga']))"
   ]
  },
  {
   "cell_type": "markdown",
   "id": "632ce7a4",
   "metadata": {},
   "source": [
    "Explique qué significa el valor de las métricas de precision, recall y f1-score"
   ]
  },
  {
   "cell_type": "code",
   "execution_count": null,
   "id": "c3eda574",
   "metadata": {},
   "outputs": [],
   "source": []
  }
 ],
 "metadata": {
  "kernelspec": {
   "display_name": "Python 3 (ipykernel)",
   "language": "python",
   "name": "python3"
  },
  "language_info": {
   "codemirror_mode": {
    "name": "ipython",
    "version": 3
   },
   "file_extension": ".py",
   "mimetype": "text/x-python",
   "name": "python",
   "nbconvert_exporter": "python",
   "pygments_lexer": "ipython3",
   "version": "3.9.13"
  }
 },
 "nbformat": 4,
 "nbformat_minor": 5
}
